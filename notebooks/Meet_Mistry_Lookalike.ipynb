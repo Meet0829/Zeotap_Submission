{
 "cells": [
  {
   "cell_type": "markdown",
   "metadata": {},
   "source": [
    "# **Task 2: Customer Lookalike Model**\n",
    "\n",
    "In this task, we build a customer lookalike model based on customer spending behavior across different product categories. The goal is to find similar customers using cosine similarity on a vectorized customer profile.\n",
    "\n",
    "---\n"
   ]
  },
  {
   "cell_type": "code",
   "execution_count": 1,
   "metadata": {},
   "outputs": [],
   "source": [
    "# **Import necessary libraries**\n",
    "\n",
    "import numpy as np\n",
    "import pandas as pd\n",
    "from sklearn.preprocessing import StandardScaler\n",
    "from sklearn.metrics.pairwise import cosine_similarity\n"
   ]
  },
  {
   "cell_type": "markdown",
   "metadata": {},
   "source": [
    "### **Step 1: Load Datasets**\n",
    "\n",
    "We load the **Customers**, **Products**, and **Transactions** datasets, and merge the product categories with transactions for category-level analysis.\n",
    "\n",
    "---\n"
   ]
  },
  {
   "cell_type": "code",
   "execution_count": 2,
   "metadata": {},
   "outputs": [],
   "source": [
    "# **Loading the datasets**\n",
    "\n",
    "# Load the customer, product, and transaction data\n",
    "customers = pd.read_csv(r\"C:\\Users\\mistr\\Desktop\\zeotap\\data\\Customers.csv\")\n",
    "products = pd.read_csv(r\"C:\\Users\\mistr\\Desktop\\zeotap\\data\\Products.csv\")\n",
    "transactions = pd.read_csv(r\"C:\\Users\\mistr\\Desktop\\zeotap\\data\\Transactions.csv\")\n",
    "\n",
    "# Merge transactions with product categories\n",
    "transactions = transactions.merge(products[['ProductID', 'Category']], on='ProductID', how='left')\n"
   ]
  },
  {
   "cell_type": "markdown",
   "metadata": {},
   "source": [
    "### **Step 2: Calculate Category-Level Spend**\n",
    "\n",
    "We calculate how much each customer has spent in each product category, filling missing values with 0.\n",
    "\n",
    "---\n"
   ]
  },
  {
   "cell_type": "code",
   "execution_count": 3,
   "metadata": {},
   "outputs": [],
   "source": [
    "# **Calculate category-level spend**\n",
    "\n",
    "# Calculate category spend for each customer (sum of TotalValue for each category)\n",
    "category_spend = transactions.groupby(['CustomerID', 'Category'])['TotalValue'].sum().unstack(fill_value=0)\n",
    "\n",
    "# Merge category spend into the customer profile\n",
    "customer_profile = customers.merge(category_spend, on='CustomerID', how='left')\n",
    "\n",
    "# Fill missing values with 0 (if a customer has not spent in a particular category)\n",
    "customer_profile.fillna(0, inplace=True)\n"
   ]
  },
  {
   "cell_type": "markdown",
   "metadata": {},
   "source": [
    "### **Step 3: Normalize Data**\n",
    "\n",
    "We standardize the category-level spend, total spend, and recency to bring all features onto a comparable scale.\n",
    "\n",
    "---\n"
   ]
  },
  {
   "cell_type": "code",
   "execution_count": 4,
   "metadata": {},
   "outputs": [
    {
     "name": "stderr",
     "output_type": "stream",
     "text": [
      "c:\\Users\\mistr\\.conda\\envs\\NewEnv\\Lib\\site-packages\\sklearn\\utils\\extmath.py:1101: RuntimeWarning: invalid value encountered in divide\n",
      "  updated_mean = (last_sum + new_sum) / updated_sample_count\n",
      "c:\\Users\\mistr\\.conda\\envs\\NewEnv\\Lib\\site-packages\\sklearn\\utils\\extmath.py:1106: RuntimeWarning: invalid value encountered in divide\n",
      "  T = new_sum / new_sample_count\n",
      "c:\\Users\\mistr\\.conda\\envs\\NewEnv\\Lib\\site-packages\\sklearn\\utils\\extmath.py:1126: RuntimeWarning: invalid value encountered in divide\n",
      "  new_unnormalized_variance -= correction**2 / new_sample_count\n"
     ]
    }
   ],
   "source": [
    "# **Normalize numerical columns**\n",
    "\n",
    "# Standardize category spend features\n",
    "numerical_cols = list(category_spend.columns)  # Use only category columns for now\n",
    "scaler = StandardScaler()\n",
    "customer_profile[numerical_cols] = scaler.fit_transform(customer_profile[numerical_cols])\n",
    "\n",
    "# Add additional features: Total Spend and Recency\n",
    "customer_profile['TotalSpend'] = transactions.groupby('CustomerID')['TotalValue'].sum()\n",
    "customer_profile['Recency'] = (pd.to_datetime('today') - pd.to_datetime(customer_profile['SignupDate'])).dt.days\n",
    "\n",
    "# Normalize TotalSpend and Recency as well\n",
    "customer_profile[['TotalSpend', 'Recency']] = scaler.fit_transform(customer_profile[['TotalSpend', 'Recency']])\n"
   ]
  },
  {
   "cell_type": "markdown",
   "metadata": {},
   "source": [
    "### **Step 4: Prepare Customer Vectors**\n",
    "\n",
    "We drop non-numerical columns and convert the remaining data into vectors for each customer, ensuring there are no missing values.\n",
    "\n",
    "---\n"
   ]
  },
  {
   "cell_type": "code",
   "execution_count": 5,
   "metadata": {},
   "outputs": [],
   "source": [
    "# **Prepare customer vectors**\n",
    "\n",
    "# Drop non-numerical columns\n",
    "customer_vectors = customer_profile.drop(['CustomerID', 'CustomerName', 'Region', 'SignupDate'], axis=1).values\n",
    "\n",
    "# Fill NaN values with 0 (or you can use any other strategy like filling with the mean/median)\n",
    "customer_vectors = np.nan_to_num(customer_vectors, nan=0)\n",
    "\n",
    "# Check if there are any NaNs in the customer vectors\n",
    "if np.any(np.isnan(customer_vectors)):\n",
    "    print(\"Warning: NaN values detected in customer_vectors. They will be replaced with 0.\")\n",
    "    customer_vectors = np.nan_to_num(customer_vectors, nan=0)\n"
   ]
  },
  {
   "cell_type": "markdown",
   "metadata": {},
   "source": [
    "### **Step 5: Compute Similarity Matrix**\n",
    "\n",
    "We compute the cosine similarity matrix to measure the similarity between customers based on their spending patterns.\n",
    "\n",
    "---\n"
   ]
  },
  {
   "cell_type": "code",
   "execution_count": 6,
   "metadata": {},
   "outputs": [],
   "source": [
    "# **Compute similarity matrix**\n",
    "\n",
    "# Compute cosine similarity between customer vectors\n",
    "similarity_matrix = cosine_similarity(customer_vectors)\n"
   ]
  },
  {
   "cell_type": "markdown",
   "metadata": {},
   "source": [
    "### **Step 6: Find Similar Customers**\n",
    "\n",
    "We define a function to find the top N most similar customers to a given customer based on their similarity scores.\n",
    "\n",
    "---\n"
   ]
  },
  {
   "cell_type": "code",
   "execution_count": 7,
   "metadata": {},
   "outputs": [],
   "source": [
    "# **Find similar customers function**\n",
    "\n",
    "# Function to find similar customers for a given input customer\n",
    "def find_similar_customers(input_customer_id, top_n=3):\n",
    "    # Get the index of the input customer\n",
    "    customer_idx = customer_profile.index[customer_profile['CustomerID'] == input_customer_id].tolist()[0]\n",
    "    \n",
    "    # Get the similarity scores of this customer with all others\n",
    "    similarity_scores = similarity_matrix[customer_idx]\n",
    "    \n",
    "    # Get the indices of the top N most similar customers\n",
    "    similar_indices = similarity_scores.argsort()[::-1][1:top_n + 1]  # Exclude the customer itself (index 0)\n",
    "    \n",
    "    # Create a list of similar customers with similarity scores\n",
    "    similar_customers = [(customer_profile.iloc[idx]['CustomerID'], similarity_scores[idx]) for idx in similar_indices]\n",
    "    \n",
    "    return similar_customers\n"
   ]
  },
  {
   "cell_type": "markdown",
   "metadata": {},
   "source": [
    "### **Step 7: Generate Lookalike Results**\n",
    "\n",
    "We generate the lookalike results for the first 20 customers by calling the `find_similar_customers` function.\n",
    "\n",
    "---\n"
   ]
  },
  {
   "cell_type": "code",
   "execution_count": 8,
   "metadata": {},
   "outputs": [],
   "source": [
    "# **Generate lookalike results**\n",
    "\n",
    "# Generate lookalike results for the first 20 customers\n",
    "lookalike_results = {}\n",
    "for customer_id in customer_profile['CustomerID'][:20]:\n",
    "    lookalike_results[customer_id] = find_similar_customers(customer_id)\n"
   ]
  },
  {
   "cell_type": "markdown",
   "metadata": {},
   "source": [
    "### **Step 8: Save Results to CSV**\n",
    "\n",
    "We format the results and save the lookalike information to a CSV file called **Lookalike.csv**.\n",
    "\n",
    "---\n"
   ]
  },
  {
   "cell_type": "code",
   "execution_count": 9,
   "metadata": {},
   "outputs": [
    {
     "name": "stdout",
     "output_type": "stream",
     "text": [
      "  CustomerID                                Lookalikes\n",
      "0      C0001  C0091 (0.96), C0120 (0.95), C0184 (0.92)\n",
      "1      C0002  C0159 (0.96), C0134 (0.95), C0106 (0.89)\n",
      "2      C0003  C0127 (0.95), C0085 (0.91), C0026 (0.89)\n",
      "3      C0004  C0075 (0.95), C0148 (0.81), C0104 (0.78)\n",
      "4      C0005  C0007 (0.97), C0166 (0.94), C0197 (0.90)\n"
     ]
    }
   ],
   "source": [
    "# **Format and save lookalike results**\n",
    "\n",
    "# Format the results and save them to a CSV file\n",
    "\n",
    "lookalike_df = pd.DataFrame({\n",
    "    \"CustomerID\": list(lookalike_results.keys()),\n",
    "    \"Lookalikes\": [\", \".join([f\"{cust_id} ({score:.2f})\" for cust_id, score in lookalikes]) for lookalikes in lookalike_results.values()]\n",
    "})\n",
    "\n",
    "# Save to Meet_Mistry_Lookalike.csv\n",
    "lookalike_df.to_csv(r\"C:\\Users\\mistr\\Desktop\\zeotap\\output\\Meet_Mistry_Lookalike.csv\", index=False)\n",
    "\n",
    "print(lookalike_df.head())\n"
   ]
  },
  {
   "cell_type": "markdown",
   "metadata": {},
   "source": [
    "### **Step 9: Run Streamlit App**\n",
    "\n",
    "Finally, after completing all preprocessing and lookalike calculations, run the Streamlit app using the following command:\n",
    "\n",
    "```bash\n",
    "python -m streamlit run app.py\n"
   ]
  }
 ],
 "metadata": {
  "kernelspec": {
   "display_name": "NewEnv",
   "language": "python",
   "name": "newenv"
  },
  "language_info": {
   "codemirror_mode": {
    "name": "ipython",
    "version": 3
   },
   "file_extension": ".py",
   "mimetype": "text/x-python",
   "name": "python",
   "nbconvert_exporter": "python",
   "pygments_lexer": "ipython3",
   "version": "3.11.5"
  }
 },
 "nbformat": 4,
 "nbformat_minor": 2
}
